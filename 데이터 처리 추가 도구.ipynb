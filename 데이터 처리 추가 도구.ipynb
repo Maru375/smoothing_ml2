{
 "cells": [
  {
   "cell_type": "code",
   "execution_count": 2,
   "id": "899284166d0cc91f",
   "metadata": {
    "ExecuteTime": {
     "end_time": "2024-05-09T05:09:16.243736Z",
     "start_time": "2024-05-09T05:09:13.958870Z"
    }
   },
   "outputs": [
    {
     "name": "stdout",
     "output_type": "stream",
     "text": [
      "Collecting influxdb_client\n",
      "  Downloading influxdb_client-1.42.0-py3-none-any.whl.metadata (64 kB)\n",
      "\u001b[2K     \u001b[90m━━━━━━━━━━━━━━━━━━━━━━━━━━━━━━━━━━━━━━━━\u001b[0m \u001b[32m64.8/64.8 kB\u001b[0m \u001b[31m2.1 MB/s\u001b[0m eta \u001b[36m0:00:00\u001b[0m\n",
      "\u001b[?25hCollecting reactivex>=4.0.4 (from influxdb_client)\n",
      "  Downloading reactivex-4.0.4-py3-none-any.whl.metadata (5.5 kB)\n",
      "Requirement already satisfied: certifi>=14.05.14 in /home/nhnacademy/anaconda3/envs/smoothing_ml/lib/python3.9/site-packages (from influxdb_client) (2024.2.2)\n",
      "Requirement already satisfied: python-dateutil>=2.5.3 in /home/nhnacademy/anaconda3/envs/smoothing_ml/lib/python3.9/site-packages (from influxdb_client) (2.9.0)\n",
      "Requirement already satisfied: setuptools>=21.0.0 in /home/nhnacademy/anaconda3/envs/smoothing_ml/lib/python3.9/site-packages (from influxdb_client) (69.5.1)\n",
      "Requirement already satisfied: urllib3>=1.26.0 in /home/nhnacademy/anaconda3/envs/smoothing_ml/lib/python3.9/site-packages (from influxdb_client) (2.2.1)\n",
      "Requirement already satisfied: six>=1.5 in /home/nhnacademy/anaconda3/envs/smoothing_ml/lib/python3.9/site-packages (from python-dateutil>=2.5.3->influxdb_client) (1.16.0)\n",
      "Requirement already satisfied: typing-extensions<5.0.0,>=4.1.1 in /home/nhnacademy/anaconda3/envs/smoothing_ml/lib/python3.9/site-packages (from reactivex>=4.0.4->influxdb_client) (4.11.0)\n",
      "Downloading influxdb_client-1.42.0-py3-none-any.whl (744 kB)\n",
      "\u001b[2K   \u001b[90m━━━━━━━━━━━━━━━━━━━━━━━━━━━━━━━━━━━━━━━━\u001b[0m \u001b[32m744.6/744.6 kB\u001b[0m \u001b[31m13.7 MB/s\u001b[0m eta \u001b[36m0:00:00\u001b[0ma \u001b[36m0:00:01\u001b[0m\n",
      "\u001b[?25hDownloading reactivex-4.0.4-py3-none-any.whl (217 kB)\n",
      "\u001b[2K   \u001b[90m━━━━━━━━━━━━━━━━━━━━━━━━━━━━━━━━━━━━━━━━\u001b[0m \u001b[32m217.8/217.8 kB\u001b[0m \u001b[31m13.4 MB/s\u001b[0m eta \u001b[36m0:00:00\u001b[0m\n",
      "\u001b[?25hInstalling collected packages: reactivex, influxdb_client\n",
      "Successfully installed influxdb_client-1.42.0 reactivex-4.0.4\n",
      "Note: you may need to restart the kernel to use updated packages.\n"
     ]
    }
   ],
   "source": [
    "%pip install influxdb_client"
   ]
  },
  {
   "cell_type": "code",
   "execution_count": 3,
   "id": "9063ec07cd2ed7d",
   "metadata": {
    "ExecuteTime": {
     "end_time": "2024-05-09T05:09:20.849372Z",
     "start_time": "2024-05-09T05:09:20.835389Z"
    }
   },
   "outputs": [],
   "source": [
    "import os\n",
    "import pytz\n",
    "import pandas as pd\n",
    "from datetime import datetime, timedelta\n",
    "from influxdb_client import InfluxDBClient\n",
    "\n",
    "# 디바이스 ID와 위치를 매핑\n",
    "location_mapping = {\n",
    "    '24e124126d152919': 'indoor',\n",
    "    '24e124126d152969': 'bottom_right_corner',\n",
    "    '24e124128c067999': 'indoor',\n",
    "    '24e124785c389818': 'bottom_left_corner',\n",
    "    '24e124785c421885': 'top_right_corner'\n",
    "}\n",
    "\n",
    "# InfluxDB 설정 정보\n",
    "url = \"http://133.186.144.22:8086\"\n",
    "token = \"r3Ecro-rJQ82UpyNScnHXYDZ3KaE45AzweCXz6QIv2jeo7eOP4hL4-A9uKvkAVQDg_xavWorGUGZn7MI_sPCwg==\"\n",
    "org = \"smoothing\"\n",
    "\n",
    "def create_client(url, token, org):\n",
    "    \"\"\"\n",
    "    Influx DB 연결 Client를 생성합니다.\n",
    "    \n",
    "    :param url: InfluxDB 연결 주소\n",
    "    :param token: InfluxDB 토큰\n",
    "    :param org:  InfluxDB 조직\n",
    "    :return: InfluxDBClient\n",
    "    \"\"\"\n",
    "    return InfluxDBClient(url=url, token=token, org=org)\n",
    "\n",
    "def query_to_dataframe(client, query, field = \"location\"):\n",
    "    \"\"\"\n",
    "    구성된 쿼리를 실행하고 전달받은 데이터를 Dataframe으로 만듭니다.\n",
    "    \n",
    "    :param field: 기본값 location\n",
    "    :param client: InfluxDBClient\n",
    "    :param query: 요청할 쿼리\n",
    "    :return: DataFrame \n",
    "    \"\"\"\n",
    "    result = client.query_api().query(query=query)\n",
    "    results = []\n",
    "\n",
    "    for table in result:\n",
    "        for record in table.records:\n",
    "            results.append({\n",
    "                \"time\": record.get_time(),\n",
    "                \"value\": record.get_value(),\n",
    "                \"place\": record.values.get(\"place\"),\n",
    "                \"location\": record.values.get(field),\n",
    "                \"device\": record.values.get(\"device\")\n",
    "            })\n",
    "\n",
    "    df = pd.DataFrame(results)\n",
    "    df['time'] = df['time'].astype(str).str.replace(r'\\+00:00$', '', regex=True)\n",
    "    return df\n",
    "\n",
    "def save_csv(df, file_pattern, directory):\n",
    "\n",
    "    \"\"\"\n",
    "    DataFrame을 CSV로 변환하여 저장합니다.\n",
    "    \n",
    "    :param df: DataFrame\n",
    "    :param file_pattern: 파일 이름 패턴\n",
    "    :param directory: 저장할 위치\n",
    "    \"\"\"\n",
    "    # 파일 경로를 확인 하고 없다면 생성 합니다.\n",
    "    if not os.path.exists(directory):\n",
    "        os.makedirs(directory)\n",
    "\n",
    "    previous_date = datetime.now() - timedelta(days=1)\n",
    "    filename = f\"{directory}{previous_date.strftime(file_pattern)}\"\n",
    "    df.to_csv(filename, index=False)\n",
    "\n",
    "def update_location(df):\n",
    "    \"\"\"\n",
    "    환경 센서 Data에서 Device ID를 확인 하여 'location' 열을 업데이트 합니다.\n",
    "    \n",
    "    :param df: 환경 센서 DataFrame\n",
    "    :return: 'location' 열을 업데이트한 DataFrame\n",
    "    \"\"\"\n",
    "    df['location'] = df['device'].map(location_mapping)\n",
    "    return df"
   ]
  },
  {
   "cell_type": "markdown",
   "id": "fc77d40ce74c9c09",
   "metadata": {},
   "source": [
    "### 쿼리 사용하여 조회"
   ]
  },
  {
   "cell_type": "code",
   "execution_count": 15,
   "id": "cb3854c3e4e0ad2e",
   "metadata": {
    "ExecuteTime": {
     "end_time": "2024-05-08T06:09:54.093313Z",
     "start_time": "2024-05-08T06:09:54.018280Z"
    }
   },
   "outputs": [
    {
     "name": "stdout",
     "output_type": "stream",
     "text": [
      "                  time      value    place location            device\n",
      "0  2024-05-12 01:00:00  69.000000  class_a   indoor  24e124128c067999\n",
      "1  2024-05-12 02:00:00  25.596774  class_a   indoor  24e124128c067999\n",
      "2  2024-05-12 03:00:00   0.000000  class_a   indoor  24e124128c067999\n",
      "3  2024-05-12 04:00:00   0.000000  class_a   indoor  24e124128c067999\n",
      "4  2024-05-12 05:00:00   0.000000  class_a   indoor  24e124128c067999\n"
     ]
    }
   ],
   "source": [
    "# 클라이언트 생성 및 쿼리 실행\n",
    "client = create_client(url, token, org)\n",
    "\n",
    "# 한국 시간대 설정\n",
    "korea_tz = pytz.timezone('Asia/Seoul')\n",
    "\n",
    "# 사용자로부터 입력받은 날짜와 시간\n",
    "input_date_str = \"2024-05-12 00:00:00\"\n",
    "input_format = \"%Y-%m-%d %H:%M:%S\"\n",
    "sensor_name = \"illumination\"\n",
    "\n",
    "# 입력 날짜를 datetime 객체로 변환\n",
    "input_datetime = datetime.strptime(input_date_str, input_format)\n",
    "\n",
    "# 한국 시간대로 localize\n",
    "localized_kst = korea_tz.localize(input_datetime)\n",
    "\n",
    "# UTC로 변환\n",
    "start_time_utc = localized_kst.astimezone(pytz.utc)\n",
    "end_time_utc = start_time_utc + timedelta(days=1)  # 24시간 후\n",
    "\n",
    "query_data = f'''\n",
    "import \"experimental\"\n",
    "from(bucket: \"environmentalsensors_data\")\n",
    "  |> range(start: {start_time_utc.strftime('%Y-%m-%dT%H:%M:%SZ')}, stop: {end_time_utc.strftime('%Y-%m-%dT%H:%M:%SZ')})\n",
    "  |> filter(fn: (r) => r[\"place\"] == \"class_a\")\n",
    "  |> filter(fn: (r) => r[\"measurement\"] == \"{sensor_name}\")\n",
    "  |> aggregateWindow(every: 1h, fn: mean, createEmpty: false)\n",
    "  |> map(fn: (r) => ({{r with _time: experimental.addDuration(d: 9h, to: r._time)}}))\n",
    "  |> keep(columns: [\"_time\", \"_value\", \"place\", \"location\", \"device\"])\n",
    "'''\n",
    "\n",
    "# CSV 변환\n",
    "df_sensor_data = query_to_dataframe(client, query_data)\n",
    "df_sensor_data_fix = update_location(df_sensor_data)\n",
    "print(df_sensor_data_fix.head())\n",
    "save_csv(df_sensor_data_fix, input_datetime.strftime(\"%m_%d\")+\"_\"+sensor_name+\"_data.csv\", \"all_data/\"+sensor_name+\"/\")\n",
    "\n",
    "# client 종료\n",
    "client.close()"
   ]
  },
  {
   "cell_type": "code",
   "execution_count": 40,
   "id": "ea77b892872779e",
   "metadata": {
    "ExecuteTime": {
     "end_time": "2024-05-08T06:18:31.838190Z",
     "start_time": "2024-05-08T06:18:30.182054Z"
    }
   },
   "outputs": [
    {
     "name": "stdout",
     "output_type": "stream",
     "text": [
      "                  time  value   place                 location     device\n",
      "0  2024-05-12 00:01:00  141.0  office  class_a_floor_heating_1  gems-3500\n",
      "1  2024-05-12 00:02:00  141.0  office  class_a_floor_heating_1  gems-3500\n",
      "                  time  value   place                 location     device\n",
      "0  2024-05-12 00:01:00  164.6  office  class_a_floor_heating_1  gems-3500\n",
      "1  2024-05-12 00:02:00  164.6  office  class_a_floor_heating_1  gems-3500\n"
     ]
    }
   ],
   "source": [
    "# 클라이언트 생성 및 쿼리 실행\n",
    "client = create_client(url, token, org)\n",
    "\n",
    "# 한국 시간대 설정\n",
    "korea_tz = pytz.timezone('Asia/Seoul')\n",
    "\n",
    "# 사용자로부터 입력받은 날짜와 시간\n",
    "input_date_str = \"2024-05-12 00:00:00\"\n",
    "input_format = \"%Y-%m-%d %H:%M:%S\"\n",
    "\n",
    "# 입력 날짜를 datetime 객체로 변환\n",
    "input_datetime = datetime.strptime(input_date_str, input_format)\n",
    "\n",
    "# 한국 시간대로 localize\n",
    "localized_kst = korea_tz.localize(input_datetime)\n",
    "\n",
    "# UTC로 변환\n",
    "start_time_utc = localized_kst.astimezone(pytz.utc)\n",
    "end_time_utc = start_time_utc + timedelta(days=1)  # 24시간 후\n",
    "\n",
    "# 전력(W) 조회 (class a : 콘센트)\n",
    "query_power_socket_data = f'''\n",
    "import \"experimental\"\n",
    "from(bucket: \"powermetrics_data\")\n",
    "  |> range(start: {start_time_utc.strftime('%Y-%m-%dT%H:%M:%SZ')}, stop: {end_time_utc.strftime('%Y-%m-%dT%H:%M:%SZ')})\n",
    "  |> filter(fn: (r) => r[\"phase\"] == \"total\")\n",
    "  |> filter(fn: (r) => r[\"description\"] == \"w\")\n",
    "  |> filter(fn: (r) => r[\"place\"] == \"office\")\n",
    "  |> filter(fn: (r) => r[\"location\"] == \"class_a_floor_heating_1\" or r[\"location\"] == \"class_a_floor_heating_2\")\n",
    "  |> aggregateWindow(every: 1m, fn: last, createEmpty: false)\n",
    "  |> map(fn: (r) => ({{r with _time: experimental.addDuration(d: 9h, to: r._time)}}))\n",
    "  |> keep(columns: [\"_time\", \"_value\", \"place\", \"location\", \"device\"])\n",
    "'''\n",
    "\n",
    "# 전력 CSV 생성(콘센트)\n",
    "df_power_socket = query_to_dataframe(client, query_power_socket_data)\n",
    "print(df_power_socket.head(2))\n",
    "save_csv(df_power_socket, input_datetime.strftime(\"%m_%d\")+\"_power_socket_data.csv\", \"all_data/power/socket/\")\n",
    "\n",
    "# 전력 사용량 조회 (class a : 콘센트)\n",
    "query_power_usage_socket_data = f'''\n",
    "import \"experimental\"\n",
    "from(bucket: \"powermetrics_data\")\n",
    "  |> range(start: {start_time_utc.strftime('%Y-%m-%dT%H:%M:%SZ')}, stop: {end_time_utc.strftime('%Y-%m-%dT%H:%M:%SZ')})\n",
    " |> filter(fn: (r) => r[\"phase\"] == \"kwh\")\n",
    "  |> filter(fn: (r) => r[\"place\"] == \"office\")\n",
    "  |> filter(fn: (r) => r[\"location\"] == \"class_a_floor_heating_1\" or r[\"location\"] == \"class_a_floor_heating_2\")\n",
    "  |> filter(fn: (r) => r[\"description\"] == \"sum\")\n",
    "  |> aggregateWindow(every: 1m, fn: last, createEmpty: false)\n",
    "  |> map(fn: (r) => ({{r with _time: experimental.addDuration(d: 9h, to: r._time)}}))\n",
    "  |> keep(columns: [\"_time\", \"_value\", \"place\", \"location\", \"device\"])\n",
    "'''\n",
    "\n",
    "# 전력 사용량 CSV 생성(콘센트)\n",
    "df_power_usage_socket = query_to_dataframe(client, query_power_usage_socket_data)\n",
    "print(df_power_usage_socket.head(2))\n",
    "save_csv(df_power_usage_socket, input_datetime.strftime(\"%m_%d\")+\"_power_usage_socket_data.csv\", \"all_data/power_usage/socket/\")\n",
    "\n",
    "# client 종료\n",
    "client.close()"
   ]
  },
  {
   "cell_type": "code",
   "execution_count": 18,
   "id": "9d71ec64a054b9d1",
   "metadata": {
    "ExecuteTime": {
     "end_time": "2024-05-09T05:09:24.883132Z",
     "start_time": "2024-05-09T05:09:24.794574Z"
    }
   },
   "outputs": [
    {
     "name": "stdout",
     "output_type": "stream",
     "text": [
      "                  time  value    place                 location device\n",
      "0  2024-05-12 01:00:00    0.0  class_a  line_periodic_data_1_in  vs133\n",
      "1  2024-05-12 02:00:00    0.0  class_a  line_periodic_data_1_in  vs133\n"
     ]
    }
   ],
   "source": [
    "# 클라이언트 생성 및 쿼리 실행\n",
    "client = create_client(url, token, org)\n",
    "\n",
    "# 한국 시간대 설정\n",
    "korea_tz = pytz.timezone('Asia/Seoul')\n",
    "\n",
    "# 사용자로부터 입력받은 날짜와 시간\n",
    "input_date_str = \"2024-05-12 00:00:00\"\n",
    "input_format = \"%Y-%m-%d %H:%M:%S\"\n",
    "\n",
    "# 입력 날짜를 datetime 객체로 변환\n",
    "input_datetime = datetime.strptime(input_date_str, input_format)\n",
    "\n",
    "# 한국 시간대로 localize\n",
    "localized_kst = korea_tz.localize(input_datetime)\n",
    "\n",
    "# UTC로 변환\n",
    "start_time_utc = localized_kst.astimezone(pytz.utc)\n",
    "end_time_utc = start_time_utc + timedelta(days=1)  # 24시간 후\n",
    "\n",
    "# 이동 감지 카운터 조회 Flux 쿼리\n",
    "query_counter_data = f'''\n",
    "import \"experimental\"\n",
    "from(bucket: \"milesight\")\n",
    "  |> range(start: {start_time_utc.strftime('%Y-%m-%dT%H:%M:%SZ')}, stop: {end_time_utc.strftime('%Y-%m-%dT%H:%M:%SZ')})\n",
    "  |> filter(fn: (r) => r[\"place\"] == \"class_a\")\n",
    "  |> filter(fn: (r) => r[\"_field\"] == \"line_periodic_data_1_out\" or r[\"_field\"] == \"line_periodic_data_1_in\")\n",
    "  |> aggregateWindow(every: 1h, fn: last, createEmpty: false)\n",
    "  |> map(fn: (r) => ({{r with _time: experimental.addDuration(d: 9h, to: r._time)}}))\n",
    "  |> keep(columns: [\"_time\", \"_value\", \"place\", \"_field\", \"device\"])\n",
    "'''\n",
    "\n",
    "# 이동 감지 카운터 CSV 생성\n",
    "df_counter = query_to_dataframe(client, query_counter_data, \"_field\")\n",
    "print(df_counter.head(2))\n",
    "save_csv(df_counter, input_datetime.strftime(\"%m_%d\")+\"_counter_data.csv\", \"all_data/counter/total/\")"
   ]
  }
 ],
 "metadata": {
  "kernelspec": {
   "display_name": "smoothing",
   "language": "python",
   "name": "python3"
  },
  "language_info": {
   "codemirror_mode": {
    "name": "ipython",
    "version": 3
   },
   "file_extension": ".py",
   "mimetype": "text/x-python",
   "name": "python",
   "nbconvert_exporter": "python",
   "pygments_lexer": "ipython3",
   "version": "3.9.19"
  }
 },
 "nbformat": 4,
 "nbformat_minor": 5
}
